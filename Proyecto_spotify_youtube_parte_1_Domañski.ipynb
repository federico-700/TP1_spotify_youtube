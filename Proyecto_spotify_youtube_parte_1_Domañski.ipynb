{
  "nbformat": 4,
  "nbformat_minor": 0,
  "metadata": {
    "colab": {
      "provenance": [],
      "authorship_tag": "ABX9TyNcE2T0XRLLpXaR4Rme7RB+",
      "include_colab_link": true
    },
    "kernelspec": {
      "name": "python3",
      "display_name": "Python 3"
    },
    "language_info": {
      "name": "python"
    }
  },
  "cells": [
    {
      "cell_type": "markdown",
      "metadata": {
        "id": "view-in-github",
        "colab_type": "text"
      },
      "source": [
        "<a href=\"https://colab.research.google.com/github/federico-700/TP1_spotify_youtube/blob/main/Proyecto_spotify_youtube_parte_1_Doma%C3%B1ski.ipynb\" target=\"_parent\"><img src=\"https://colab.research.google.com/assets/colab-badge.svg\" alt=\"Open In Colab\"/></a>"
      ]
    },
    {
      "cell_type": "code",
      "execution_count": null,
      "metadata": {
        "id": "tt-CUbw1z7Sn"
      },
      "outputs": [],
      "source": [
        "#Proyecto Spotify Youtube\n",
        "\n",
        "\"\"\"Este trabajo tiene como objetivo analizar un dataset que contiede datos de Spotify y YouTube con 28 columnas y más de 10,000 registros.\n",
        "Primero, se realizará una limpieza de datos para identificar y corregir valores nulos o inconsistentes.\n",
        "Luego, en el análisis exploratorio (EDA), se calcularán estadísticas descriptivas como media y mediana,\n",
        "junto con gráficos para comprender la distribución y las relaciones entre variables.\"\"\"\n",
        "\"\"\"En una segunda fase, se implementará un modelo de machine learning que permita explorar posibles relaciones y patrones en los datos,\n",
        "abordando tareas como la predicción de visitas en YouTube/Spotify en función de características relevantes\n",
        "y la clasificación de canciones según su popularidad\"\n",
        "\n"
      ]
    }
  ]
}