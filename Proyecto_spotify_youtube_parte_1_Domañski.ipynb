{
  "nbformat": 4,
  "nbformat_minor": 0,
  "metadata": {
    "colab": {
      "provenance": [],
      "authorship_tag": "ABX9TyMpIu4zB9xHRwby9YZ0cqDq",
      "include_colab_link": true
    },
    "kernelspec": {
      "name": "python3",
      "display_name": "Python 3"
    },
    "language_info": {
      "name": "python"
    }
  },
  "cells": [
    {
      "cell_type": "markdown",
      "metadata": {
        "id": "view-in-github",
        "colab_type": "text"
      },
      "source": [
        "<a href=\"https://colab.research.google.com/github/federico-700/TP1_spotify_youtube/blob/main/Proyecto_spotify_youtube_parte_1_Doma%C3%B1ski.ipynb\" target=\"_parent\"><img src=\"https://colab.research.google.com/assets/colab-badge.svg\" alt=\"Open In Colab\"/></a>"
      ]
    },
    {
      "cell_type": "code",
      "execution_count": null,
      "metadata": {
        "id": "tt-CUbw1z7Sn"
      },
      "outputs": [],
      "source": [
        "#Proyecto Spotify Youtube\n",
        "\n",
        "\"\"\"Este trabajo tiene como objetivo analizar un dataset que contiede datos de Spotify y YouTube con 28 columnas y más de 10,000 registros.\n",
        "Primero, se realizará una limpieza de datos para identificar y corregir valores nulos o inconsistentes.\n",
        "Luego, en el análisis exploratorio (EDA), se calcularán estadísticas descriptivas como media y mediana,\n",
        "junto con gráficos para comprender la distribución y las relaciones entre variables.\"\"\"\n",
        "\"\"\"En una segunda fase, se implementará un modelo de machine learning que permita explorar posibles relaciones y patrones en los datos,\n",
        "abordando tareas como la predicción de visitas en YouTube/Spotify en función de características relevantes\n",
        "y la clasificación de canciones según su popularidad\"\n",
        "\n"
      ]
    },
    {
      "cell_type": "code",
      "source": [
        "#importar librerias\n",
        "import pandas as pd\n",
        "import numpy as np\n",
        "import matplotlib as mpl\n",
        "import seaborn as sns\n",
        "\n",
        "from google.colab import files\n",
        "import io\n",
        "\n",
        "df = pd.read_csv(\"Spotify_Youtube.csv\")\n",
        "df.info()"
      ],
      "metadata": {
        "id": "QKw1_WevzTkO",
        "outputId": "f680de3f-c990-4255-eb04-63b8c0152e67",
        "colab": {
          "base_uri": "https://localhost:8080/"
        }
      },
      "execution_count": 3,
      "outputs": [
        {
          "output_type": "stream",
          "name": "stdout",
          "text": [
            "<class 'pandas.core.frame.DataFrame'>\n",
            "RangeIndex: 20718 entries, 0 to 20717\n",
            "Data columns (total 28 columns):\n",
            " #   Column            Non-Null Count  Dtype  \n",
            "---  ------            --------------  -----  \n",
            " 0   Unnamed: 0        20718 non-null  int64  \n",
            " 1   Artist            20718 non-null  object \n",
            " 2   Url_spotify       20718 non-null  object \n",
            " 3   Track             20718 non-null  object \n",
            " 4   Album             20718 non-null  object \n",
            " 5   Album_type        20718 non-null  object \n",
            " 6   Uri               20718 non-null  object \n",
            " 7   Danceability      20716 non-null  float64\n",
            " 8   Energy            20716 non-null  float64\n",
            " 9   Key               20716 non-null  float64\n",
            " 10  Loudness          20716 non-null  float64\n",
            " 11  Speechiness       20716 non-null  float64\n",
            " 12  Acousticness      20716 non-null  float64\n",
            " 13  Instrumentalness  20716 non-null  float64\n",
            " 14  Liveness          20716 non-null  float64\n",
            " 15  Valence           20716 non-null  float64\n",
            " 16  Tempo             20716 non-null  float64\n",
            " 17  Duration_ms       20716 non-null  float64\n",
            " 18  Url_youtube       20248 non-null  object \n",
            " 19  Title             20248 non-null  object \n",
            " 20  Channel           20248 non-null  object \n",
            " 21  Views             20248 non-null  float64\n",
            " 22  Likes             20177 non-null  float64\n",
            " 23  Comments          20149 non-null  float64\n",
            " 24  Description       19842 non-null  object \n",
            " 25  Licensed          20248 non-null  object \n",
            " 26  official_video    20248 non-null  object \n",
            " 27  Stream            20142 non-null  float64\n",
            "dtypes: float64(15), int64(1), object(12)\n",
            "memory usage: 4.4+ MB\n"
          ]
        }
      ]
    }
  ]
}